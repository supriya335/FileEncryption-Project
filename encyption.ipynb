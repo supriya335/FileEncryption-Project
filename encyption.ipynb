{
 "cells": [
  {
   "cell_type": "code",
   "execution_count": 1,
   "id": "bba12a03",
   "metadata": {},
   "outputs": [
    {
     "name": "stdout",
     "output_type": "stream",
     "text": [
      "Collecting cryptography\n",
      "  Downloading cryptography-41.0.3-cp37-abi3-win_amd64.whl (2.6 MB)\n",
      "     ---------------------------------------- 2.6/2.6 MB 101.1 kB/s eta 0:00:00\n",
      "Requirement already satisfied: cffi>=1.12 in c:\\users\\admin\\appdata\\local\\programs\\python\\python311\\lib\\site-packages (from cryptography) (1.15.1)\n",
      "Requirement already satisfied: pycparser in c:\\users\\admin\\appdata\\local\\programs\\python\\python311\\lib\\site-packages (from cffi>=1.12->cryptography) (2.21)\n",
      "Installing collected packages: cryptography\n",
      "Successfully installed cryptography-41.0.3\n",
      "Note: you may need to restart the kernel to use updated packages.\n"
     ]
    },
    {
     "name": "stderr",
     "output_type": "stream",
     "text": [
      "\n",
      "[notice] A new release of pip available: 22.3.1 -> 23.2.1\n",
      "[notice] To update, run: python.exe -m pip install --upgrade pip\n"
     ]
    }
   ],
   "source": [
    "pip install cryptography\n"
   ]
  },
  {
   "cell_type": "code",
   "execution_count": 2,
   "id": "5db6881b",
   "metadata": {},
   "outputs": [],
   "source": [
    "from cryptography.fernet import Fernet"
   ]
  },
  {
   "cell_type": "code",
   "execution_count": 5,
   "id": "74daa7e3",
   "metadata": {},
   "outputs": [
    {
     "name": "stdout",
     "output_type": "stream",
     "text": [
      "b'HGth3VgXVdcmDkcRzFcigL9P9Ki65GIt9MBZncjJOoM='\n"
     ]
    }
   ],
   "source": [
    "key = Fernet.generate_key()\n",
    "#print(key)"
   ]
  },
  {
   "cell_type": "code",
   "execution_count": 6,
   "id": "f482df6a",
   "metadata": {},
   "outputs": [],
   "source": [
    "#encryption\n",
    "fernet = Fernet(key)"
   ]
  },
  {
   "cell_type": "code",
   "execution_count": 7,
   "id": "3c4e618a",
   "metadata": {},
   "outputs": [],
   "source": [
    "#write key\n",
    "with open('key.key','wb') as filekey:\n",
    "    filekey.write(key)"
   ]
  },
  {
   "cell_type": "code",
   "execution_count": 11,
   "id": "3cf505e7",
   "metadata": {},
   "outputs": [],
   "source": [
    "#read key\n",
    "with open('key.key','rb') as filekey:\n",
    "    key = filekey.read()"
   ]
  },
  {
   "cell_type": "code",
   "execution_count": 13,
   "id": "705072fb",
   "metadata": {},
   "outputs": [],
   "source": [
    "#read the file\n",
    "with open('song.mpeg','rb') as file:\n",
    "    original_file = file.read()"
   ]
  },
  {
   "cell_type": "code",
   "execution_count": 14,
   "id": "c581d132",
   "metadata": {},
   "outputs": [],
   "source": [
    "encrypted = fernet.encrypt(original_file)"
   ]
  },
  {
   "cell_type": "code",
   "execution_count": 15,
   "id": "71f90b9a",
   "metadata": {},
   "outputs": [],
   "source": [
    "#file ko encrypt kar rhe h\n",
    "with open('encrypted song.mpeg','wb') as file:\n",
    "    file.write(encrypted)"
   ]
  },
  {
   "cell_type": "code",
   "execution_count": 2,
   "id": "30a6ec2a",
   "metadata": {},
   "outputs": [
    {
     "name": "stdout",
     "output_type": "stream",
     "text": [
      "Requirement already satisfied: virtualenv in c:\\users\\admin\\appdata\\local\\programs\\python\\python311\\lib\\site-packages (20.24.5)Note: you may need to restart the kernel to use updated packages.\n",
      "\n",
      "Requirement already satisfied: distlib<1,>=0.3.7 in c:\\users\\admin\\appdata\\local\\programs\\python\\python311\\lib\\site-packages (from virtualenv) (0.3.7)\n",
      "Requirement already satisfied: filelock<4,>=3.12.2 in c:\\users\\admin\\appdata\\local\\programs\\python\\python311\\lib\\site-packages (from virtualenv) (3.12.4)\n",
      "Requirement already satisfied: platformdirs<4,>=3.9.1 in c:\\users\\admin\\appdata\\local\\programs\\python\\python311\\lib\\site-packages (from virtualenv) (3.10.0)\n"
     ]
    }
   ],
   "source": [
    "pip install virtualenv"
   ]
  },
  {
   "cell_type": "code",
   "execution_count": 4,
   "id": "9c0cb6b3",
   "metadata": {},
   "outputs": [
    {
     "name": "stdout",
     "output_type": "stream",
     "text": [
      "Collecting Flask\n",
      "  Obtaining dependency information for Flask from https://files.pythonhosted.org/packages/36/42/015c23096649b908c809c69388a805a571a3bea44362fe87e33fc3afa01f/flask-3.0.0-py3-none-any.whl.metadata\n",
      "  Downloading flask-3.0.0-py3-none-any.whl.metadata (3.6 kB)\n",
      "Collecting Werkzeug>=3.0.0 (from Flask)\n",
      "  Obtaining dependency information for Werkzeug>=3.0.0 from https://files.pythonhosted.org/packages/b6/a5/54b01f663d60d5334f6c9c87c26274e94617a4fd463d812463626423b10d/werkzeug-3.0.0-py3-none-any.whl.metadata\n",
      "  Downloading werkzeug-3.0.0-py3-none-any.whl.metadata (4.1 kB)\n",
      "Requirement already satisfied: Jinja2>=3.1.2 in c:\\users\\admin\\appdata\\local\\programs\\python\\python311\\lib\\site-packages (from Flask) (3.1.2)\n",
      "Collecting itsdangerous>=2.1.2 (from Flask)\n",
      "  Downloading itsdangerous-2.1.2-py3-none-any.whl (15 kB)\n",
      "Collecting click>=8.1.3 (from Flask)\n",
      "  Obtaining dependency information for click>=8.1.3 from https://files.pythonhosted.org/packages/00/2e/d53fa4befbf2cfa713304affc7ca780ce4fc1fd8710527771b58311a3229/click-8.1.7-py3-none-any.whl.metadata\n",
      "  Downloading click-8.1.7-py3-none-any.whl.metadata (3.0 kB)\n",
      "Collecting blinker>=1.6.2 (from Flask)\n",
      "  Downloading blinker-1.6.2-py3-none-any.whl (13 kB)\n",
      "Requirement already satisfied: colorama in c:\\users\\admin\\appdata\\local\\programs\\python\\python311\\lib\\site-packages (from click>=8.1.3->Flask) (0.4.6)\n",
      "Requirement already satisfied: MarkupSafe>=2.0 in c:\\users\\admin\\appdata\\local\\programs\\python\\python311\\lib\\site-packages (from Jinja2>=3.1.2->Flask) (2.1.2)\n",
      "Downloading flask-3.0.0-py3-none-any.whl (99 kB)\n",
      "   ---------------------------------------- 0.0/99.7 kB ? eta -:--:--\n",
      "   ---- ----------------------------------- 10.2/99.7 kB ? eta -:--:--\n",
      "   ---------------- ----------------------- 41.0/99.7 kB 653.6 kB/s eta 0:00:01\n",
      "   -------------------------------- ------- 81.9/99.7 kB 762.6 kB/s eta 0:00:01\n",
      "   ---------------------------------------- 99.7/99.7 kB 634.6 kB/s eta 0:00:00\n",
      "Downloading click-8.1.7-py3-none-any.whl (97 kB)\n",
      "   ---------------------------------------- 0.0/97.9 kB ? eta -:--:--\n",
      "   ---------------- ----------------------- 41.0/97.9 kB 1.9 MB/s eta 0:00:01\n",
      "   ------------------------- -------------- 61.4/97.9 kB 812.7 kB/s eta 0:00:01\n",
      "   ------------------------------------- -- 92.2/97.9 kB 655.4 kB/s eta 0:00:01\n",
      "   ---------------------------------------- 97.9/97.9 kB 622.0 kB/s eta 0:00:00\n",
      "Downloading werkzeug-3.0.0-py3-none-any.whl (226 kB)\n",
      "   ---------------------------------------- 0.0/226.6 kB ? eta -:--:--\n",
      "   ------- -------------------------------- 41.0/226.6 kB 1.9 MB/s eta 0:00:01\n",
      "   ------------ -------------------------- 71.7/226.6 kB 787.7 kB/s eta 0:00:01\n",
      "   --------------- ----------------------- 92.2/226.6 kB 744.7 kB/s eta 0:00:01\n",
      "   ------------------ ------------------- 112.6/226.6 kB 726.2 kB/s eta 0:00:01\n",
      "   ------------------------ ------------- 143.4/226.6 kB 655.8 kB/s eta 0:00:01\n",
      "   ------------------------- ------------ 153.6/226.6 kB 573.4 kB/s eta 0:00:01\n",
      "   -------------------------------- ----- 194.6/226.6 kB 588.9 kB/s eta 0:00:01\n",
      "   -------------------------------------  225.3/226.6 kB 597.3 kB/s eta 0:00:01\n",
      "   -------------------------------------- 226.6/226.6 kB 576.8 kB/s eta 0:00:00\n",
      "Installing collected packages: Werkzeug, itsdangerous, click, blinker, Flask\n",
      "Successfully installed Flask-3.0.0 Werkzeug-3.0.0 blinker-1.6.2 click-8.1.7 itsdangerous-2.1.2\n",
      "Note: you may need to restart the kernel to use updated packages.\n"
     ]
    }
   ],
   "source": [
    "pip install Flask"
   ]
  },
  {
   "cell_type": "code",
   "execution_count": 1,
   "id": "448e4f3e",
   "metadata": {},
   "outputs": [
    {
     "name": "stdout",
     "output_type": "stream",
     "text": [
      "Requirement already satisfied: cryptography in c:\\users\\admin\\appdata\\local\\programs\\python\\python311\\lib\\site-packages (41.0.3)Note: you may need to restart the kernel to use updated packages.\n",
      "\n",
      "Requirement already satisfied: cffi>=1.12 in c:\\users\\admin\\appdata\\local\\programs\\python\\python311\\lib\\site-packages (from cryptography) (1.15.1)\n",
      "Requirement already satisfied: pycparser in c:\\users\\admin\\appdata\\local\\programs\\python\\python311\\lib\\site-packages (from cffi>=1.12->cryptography) (2.21)\n"
     ]
    },
    {
     "name": "stderr",
     "output_type": "stream",
     "text": [
      "\n",
      "[notice] A new release of pip is available: 23.2.1 -> 23.3\n",
      "[notice] To update, run: python.exe -m pip install --upgrade pip\n"
     ]
    }
   ],
   "source": [
    "pip install cryptography"
   ]
  },
  {
   "cell_type": "code",
   "execution_count": null,
   "id": "469037e4",
   "metadata": {},
   "outputs": [],
   "source": []
  }
 ],
 "metadata": {
  "kernelspec": {
   "display_name": "Python 3",
   "language": "python",
   "name": "python3"
  },
  "language_info": {
   "codemirror_mode": {
    "name": "ipython",
    "version": 3
   },
   "file_extension": ".py",
   "mimetype": "text/x-python",
   "name": "python",
   "nbconvert_exporter": "python",
   "pygments_lexer": "ipython3",
   "version": "3.11.5 (tags/v3.11.5:cce6ba9, Aug 24 2023, 14:38:34) [MSC v.1936 64 bit (AMD64)]"
  },
  "vscode": {
   "interpreter": {
    "hash": "72b2382ece9768098284d92bbc69d35954e75b60d1e25897d1389c232f4796f0"
   }
  }
 },
 "nbformat": 4,
 "nbformat_minor": 5
}
